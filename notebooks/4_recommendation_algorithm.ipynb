{
 "cells": [
  {
   "cell_type": "markdown",
   "metadata": {},
   "source": [
    "# Recommendation Algorithm for KuaiRec Video Platform\n",
    "\n",
    "## Introduction\n",
    "In this notebook, we implement a complete recommendation system using the models developed in notebook 3. Our goal is to generate personalized video recommendations for each user in the test set, leveraging the complementary strengths of our different recommendation approaches.\n",
    "\n",
    "The recommendation algorithm combines four distinct models:\n",
    "1. Collaborative Filtering (40% weight)\n",
    "2. Content-Based Filtering (30% weight)\n",
    "3. Sequence-Aware Model (20% weight)\n",
    "4. Hybrid Model (10% weight)\n",
    "\n",
    "Each model contributes based on its specific strengths, and the weighted ensemble approach allows us to optimize recommendations by balancing different signals from user behavior and content characteristics.\n",
    "\n",
    "## Workflow\n",
    "1. Load the trained models and test data\n",
    "2. Initialize the recommendation system\n",
    "3. Generate sample recommendations for a subset of users\n",
    "4. Create top-10 recommendation lists for all users in the test set\n",
    "5. Save the recommendations for evaluation"
   ]
  },
  {
   "cell_type": "markdown",
   "metadata": {},
   "source": [
    "## 1. Setup and Data Loading\n",
    "\n",
    "First, we import the necessary libraries and load the test data that will be used for generating recommendations."
   ]
  },
  {
   "cell_type": "code",
   "execution_count": 11,
   "metadata": {},
   "outputs": [
    {
     "name": "stdout",
     "output_type": "stream",
     "text": [
      "Loading test data...\n",
      "Test features shape: (934735, 21)\n"
     ]
    }
   ],
   "source": [
    "# Import necessary libraries\n",
    "import sys\n",
    "import os\n",
    "import pandas as pd\n",
    "import numpy as np\n",
    "\n",
    "# Add the src directory to the path so we can import our modules\n",
    "sys.path.append(os.path.abspath(\"../\"))\n",
    "from src.recommender import KuaiRecRecommender\n",
    "\n",
    "# Set up directories\n",
    "processed_dir = \"../data/processed\"\n",
    "models_dir = \"../models\"\n",
    "output_dir = \"../results\"\n",
    "os.makedirs(output_dir, exist_ok=True)\n",
    "\n",
    "# Load test data\n",
    "print(\"Loading test data...\")\n",
    "test_features = pd.read_csv(os.path.join(processed_dir, \"test_features.csv\"), low_memory=True)\n",
    "print(f\"Test features shape: {test_features.shape}\")"
   ]
  },
  {
   "cell_type": "markdown",
   "metadata": {},
   "source": [
    "## 2. Initialize the Recommendation System\n",
    "\n",
    "Now we initialize the recommender system, which loads all the previously trained models (collaborative filtering, content-based, sequence-aware, and hybrid models)."
   ]
  },
  {
   "cell_type": "code",
   "execution_count": 12,
   "metadata": {},
   "outputs": [
    {
     "name": "stdout",
     "output_type": "stream",
     "text": [
      "Initializing recommender...\n",
      "Loaded interaction matrix.\n",
      "Loaded collaborative filtering model.\n",
      "Loaded content-based model.\n",
      "Loaded sequence-aware model.\n",
      "Max sequence count: 1697\n",
      "Loaded hybrid model.\n"
     ]
    }
   ],
   "source": [
    "# Initialize the recommender\n",
    "print(\"Initializing recommender...\")\n",
    "recommender = KuaiRecRecommender(models_dir=models_dir, processed_dir=processed_dir)"
   ]
  },
  {
   "cell_type": "markdown",
   "metadata": {},
   "source": [
    "## 3. Generate Sample Recommendations\n",
    "\n",
    "Let's test our recommender by generating recommendations for a small sample of users and examining the results."
   ]
  },
  {
   "cell_type": "code",
   "execution_count": 13,
   "metadata": {},
   "outputs": [
    {
     "name": "stdout",
     "output_type": "stream",
     "text": [
      "\n",
      "--- Example Recommendations ---\n",
      "\n",
      "Recommendations for user 14:\n",
      "  1. Video 2178 (score: 1.1451)\n",
      "  2. Video 1305 (score: 1.1313)\n",
      "  3. Video 4123 (score: 1.0816)\n",
      "  4. Video 314 (score: 0.9556)\n",
      "  5. Video 4367 (score: 0.9203)\n",
      "\n",
      "Recommendations for user 19:\n",
      "  1. Video 7383 (score: 1.0405)\n",
      "  2. Video 3107 (score: 0.8647)\n",
      "  3. Video 2130 (score: 0.8061)\n",
      "  4. Video 5811 (score: 0.8013)\n",
      "  5. Video 3597 (score: 0.7969)\n",
      "\n",
      "Recommendations for user 21:\n",
      "  1. Video 4123 (score: 1.0680)\n",
      "  2. Video 2130 (score: 0.8907)\n",
      "  3. Video 5464 (score: 0.8684)\n",
      "  4. Video 600 (score: 0.8428)\n",
      "  5. Video 7191 (score: 0.7338)\n",
      "\n",
      "Recommendations for user 23:\n",
      "  1. Video 8340 (score: 1.9004)\n",
      "  2. Video 1445 (score: 1.1348)\n",
      "  3. Video 3742 (score: 1.0073)\n",
      "  4. Video 7236 (score: 0.9737)\n",
      "  5. Video 3770 (score: 0.9624)\n",
      "\n",
      "Recommendations for user 24:\n",
      "  1. Video 5291 (score: 3.9920)\n",
      "  2. Video 4077 (score: 2.9249)\n",
      "  3. Video 8340 (score: 1.7774)\n",
      "  4. Video 497 (score: 1.1936)\n",
      "  5. Video 9178 (score: 1.1907)\n"
     ]
    }
   ],
   "source": [
    "# Generate recommendations for a few example users\n",
    "print(\"\\n--- Example Recommendations ---\")\n",
    "example_users = test_features['user_id'].unique()[:5]  # Use the first 5 users as examples\n",
    "\n",
    "for user_id in example_users:\n",
    "    print(f\"\\nRecommendations for user {user_id}:\")\n",
    "    \n",
    "    # Get recommendations with default weights\n",
    "    recs = recommender.recommend(user_id, n=5)\n",
    "    \n",
    "    # Display recommendations\n",
    "    if recs:\n",
    "        for rank, (item_id, score) in enumerate(recs):\n",
    "            print(f\"  {rank+1}. Video {item_id} (score: {score:.4f})\")\n",
    "    else:\n",
    "        print(\"  No recommendations generated.\")"
   ]
  },
  {
   "cell_type": "markdown",
   "metadata": {},
   "source": [
    "## 4. Generate Recommendations for All Users\n",
    "\n",
    "Now we'll generate recommendations for all users in the test set using our weighted ensemble approach."
   ]
  },
  {
   "cell_type": "code",
   "execution_count": 14,
   "metadata": {},
   "outputs": [
    {
     "name": "stdout",
     "output_type": "stream",
     "text": [
      "\n",
      "--- Generating Recommendations for All Test Users ---\n"
     ]
    },
    {
     "name": "stderr",
     "output_type": "stream",
     "text": [
      "Generating recommendations:   0%|          | 0/1411 [00:00<?, ?it/s]"
     ]
    },
    {
     "name": "stderr",
     "output_type": "stream",
     "text": [
      "Generating recommendations: 100%|██████████| 1411/1411 [01:16<00:00, 18.38it/s]\n"
     ]
    }
   ],
   "source": [
    "# Generate recommendations for all users in the test set\n",
    "print(\"\\n--- Generating Recommendations for All Test Users ---\")\n",
    "test_users = test_features['user_id'].unique()\n",
    "all_recommendations = recommender.generate_recommendations_for_all_users(\n",
    "    users=test_users, \n",
    "    n=10,\n",
    "    weights={\n",
    "        'collaborative': 0.4,\n",
    "        'content': 0.3,\n",
    "        'sequence': 0.2,\n",
    "        'hybrid': 0.1\n",
    "    }\n",
    ")"
   ]
  },
  {
   "cell_type": "markdown",
   "metadata": {},
   "source": [
    "## 5. Save Recommendations and Summarize Results\n",
    "\n",
    "Finally, we save all recommendations to a file and provide a summary of what we've generated."
   ]
  },
  {
   "cell_type": "code",
   "execution_count": 15,
   "metadata": {},
   "outputs": [
    {
     "name": "stdout",
     "output_type": "stream",
     "text": [
      "Saved recommendations to ../results\\recommendations.csv\n",
      "\n",
      "=== Recommendation Algorithm Summary ===\n",
      "1. Number of users with recommendations: 1411\n",
      "2. Average number of recommendations per user: 10.00\n",
      "3. All recommendations have been saved to ../results\\recommendations.csv\n",
      "\n",
      "Next step: Evaluate the recommendations using appropriate metrics.\n"
     ]
    }
   ],
   "source": [
    "# Save recommendations to file\n",
    "recommender.save_recommendations(\n",
    "    all_recommendations, \n",
    "    os.path.join(output_dir, \"recommendations.csv\")\n",
    ")\n",
    "\n",
    "# Summary statistics\n",
    "print(\"\\n=== Recommendation Algorithm Summary ===\")\n",
    "print(f\"1. Number of users with recommendations: {len(all_recommendations)}\")\n",
    "print(f\"2. Average number of recommendations per user: {np.mean([len(recs) for recs in all_recommendations.values()]):.2f}\")\n",
    "print(f\"3. All recommendations have been saved to {os.path.join(output_dir, 'recommendations.csv')}\")\n",
    "print(\"\\nNext step: Evaluate the recommendations using appropriate metrics.\")"
   ]
  },
  {
   "cell_type": "markdown",
   "metadata": {},
   "source": [
    "## Analysis and Next Steps\n",
    "\n",
    "### Results Summary\n",
    "We have successfully generated personalized video recommendations for all 1,411 users in our test set, with each user receiving exactly 10 recommendations. The recommendation algorithm effectively combines the outputs from our four distinct models with the specified weights:\n",
    "- 40% from Collaborative Filtering\n",
    "- 30% from Content-Based Filtering\n",
    "- 20% from Sequence-Aware Model\n",
    "- 10% from Hybrid Model\n",
    "\n",
    "The sample recommendations demonstrate diverse scoring patterns across different users, suggesting that the algorithm adapts to individual user preferences and viewing histories. For example, User 24's top recommendation has a significantly higher score (3.9920) compared to User 14's top recommendation (1.1451), indicating strong personalization.\n",
    "\n",
    "### Key Achievements\n",
    "1. Implemented a weighted ensemble approach that leverages all four recommendation models\n",
    "2. Generated personalized top-10 recommendation lists for all test users\n",
    "3. Saved recommendations in a standardized format for further evaluation\n",
    "4. Processed recommendations efficiently (18.38 users per second)\n",
    "\n",
    "### Next Steps\n",
    "The next crucial phase is to evaluate these recommendations in notebook 5 using established metrics such as:\n",
    "- Precision and Recall at K\n",
    "- Mean Average Precision (MAP)\n",
    "- Normalized Discounted Cumulative Gain (NDCG)\n",
    "- Diversity and Coverage metrics\n",
    "\n",
    "This evaluation will help us determine how well our recommendation algorithm performs and identify potential areas for improvement. We may also experiment with different model weight combinations to optimize performance further."
   ]
  }
 ],
 "metadata": {
  "kernelspec": {
   "display_name": "Python 3",
   "language": "python",
   "name": "python3"
  },
  "language_info": {
   "codemirror_mode": {
    "name": "ipython",
    "version": 3
   },
   "file_extension": ".py",
   "mimetype": "text/x-python",
   "name": "python",
   "nbconvert_exporter": "python",
   "pygments_lexer": "ipython3",
   "version": "3.12.4"
  }
 },
 "nbformat": 4,
 "nbformat_minor": 2
}

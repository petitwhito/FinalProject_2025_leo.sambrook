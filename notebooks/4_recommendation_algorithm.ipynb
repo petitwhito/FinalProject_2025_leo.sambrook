{
 "cells": [
  {
   "cell_type": "markdown",
   "metadata": {},
   "source": [
    "# Recommendation Algorithm for KuaiRec Video Platform\n",
    "\n",
    "## Introduction\n",
    "In this notebook, we implement a complete recommendation system using the models developed in notebook 3. Our goal is to generate personalized video recommendations for each user in the test set, leveraging the complementary strengths of our different recommendation approaches.\n",
    "\n",
    "The recommendation algorithm combines four distinct models:\n",
    "1. Collaborative Filtering (40% weight)\n",
    "2. Content-Based Filtering (30% weight)\n",
    "3. Sequence-Aware Model (20% weight)\n",
    "4. Hybrid Model (10% weight)\n",
    "\n",
    "Each model contributes based on its specific strengths, and the weighted ensemble approach allows us to optimize recommendations by balancing different signals from user behavior and content characteristics.\n",
    "\n",
    "## Workflow\n",
    "1. Load the trained models and test data\n",
    "2. Initialize the recommendation system\n",
    "3. Generate sample recommendations for a subset of users\n",
    "4. Create top-10 recommendation lists for all users in the test set\n",
    "5. Save the recommendations for evaluation"
   ]
  },
  {
   "cell_type": "markdown",
   "metadata": {},
   "source": [
    "## 1. Setup and Data Loading\n",
    "\n",
    "First, we import the necessary libraries and load the test data that will be used for generating recommendations."
   ]
  },
  {
   "cell_type": "code",
   "execution_count": 2,
   "metadata": {},
   "outputs": [
    {
     "name": "stdout",
     "output_type": "stream",
     "text": [
      "Loading test data...\n",
      "Test features shape: (934735, 21)\n"
     ]
    }
   ],
   "source": [
    "# Import necessary libraries\n",
    "import sys\n",
    "import os\n",
    "import pandas as pd\n",
    "import numpy as np\n",
    "\n",
    "# Add the src directory to the path so we can import our modules\n",
    "sys.path.append(os.path.abspath(\"../\"))\n",
    "from src.recommender import KuaiRecRecommender\n",
    "\n",
    "# Set up directories\n",
    "processed_dir = \"../data/processed\"\n",
    "models_dir = \"../models\"\n",
    "output_dir = \"../results\"\n",
    "os.makedirs(output_dir, exist_ok=True)\n",
    "\n",
    "# Load test data\n",
    "print(\"Loading test data...\")\n",
    "test_features = pd.read_csv(os.path.join(processed_dir, \"test_features.csv\"), low_memory=True)\n",
    "print(f\"Test features shape: {test_features.shape}\")"
   ]
  },
  {
   "cell_type": "markdown",
   "metadata": {},
   "source": [
    "## 2. Initialize the Recommendation System\n",
    "\n",
    "Now we initialize the recommender system, which loads all the previously trained models (collaborative filtering, content-based, sequence-aware, and hybrid models)."
   ]
  },
  {
   "cell_type": "code",
   "execution_count": 3,
   "metadata": {},
   "outputs": [
    {
     "name": "stdout",
     "output_type": "stream",
     "text": [
      "Initializing recommender...\n",
      "Loaded interaction matrix.\n",
      "Loaded collaborative filtering model.\n",
      "Loaded content-based model.\n",
      "Loaded sequence-aware model.\n",
      "Loaded hybrid model.\n"
     ]
    }
   ],
   "source": [
    "# Initialize the recommender\n",
    "print(\"Initializing recommender...\")\n",
    "recommender = KuaiRecRecommender(models_dir=models_dir, processed_dir=processed_dir)"
   ]
  },
  {
   "cell_type": "markdown",
   "metadata": {},
   "source": [
    "## 3. Generate Sample Recommendations\n",
    "\n",
    "Let's test our recommender by generating recommendations for a small sample of users and examining the results."
   ]
  },
  {
   "cell_type": "code",
   "execution_count": 4,
   "metadata": {},
   "outputs": [
    {
     "name": "stdout",
     "output_type": "stream",
     "text": [
      "\n",
      "--- Example Recommendations ---\n",
      "\n",
      "Recommendations for user 14:\n",
      "  1. Video 314 (score: 1.8789)\n",
      "  2. Video 600 (score: 1.8765)\n",
      "  3. Video 1305 (score: 1.8115)\n",
      "  4. Video 4123 (score: 1.6332)\n",
      "  5. Video 9815 (score: 1.4728)\n",
      "\n",
      "Recommendations for user 19:\n",
      "  1. Video 4760 (score: 8.0000)\n",
      "  2. Video 3136 (score: 5.6000)\n",
      "  3. Video 3138 (score: 4.6000)\n",
      "  4. Video 6184 (score: 4.1000)\n",
      "  5. Video 1429 (score: 3.9000)\n",
      "\n",
      "Recommendations for user 21:\n",
      "  1. Video 6204 (score: 2.7000)\n",
      "  2. Video 600 (score: 1.8752)\n",
      "  3. Video 2130 (score: 1.8199)\n",
      "  4. Video 4123 (score: 1.7542)\n",
      "  5. Video 6787 (score: 1.6938)\n",
      "\n",
      "Recommendations for user 23:\n",
      "  1. Video 5711 (score: 2.1000)\n",
      "  2. Video 8340 (score: 1.6363)\n",
      "  3. Video 6250 (score: 1.6000)\n",
      "  4. Video 1445 (score: 1.1348)\n",
      "  5. Video 845 (score: 1.1000)\n",
      "\n",
      "Recommendations for user 24:\n",
      "  1. Video 5291 (score: 3.9920)\n",
      "  2. Video 4077 (score: 2.9249)\n",
      "  3. Video 9178 (score: 2.2498)\n",
      "  4. Video 8366 (score: 1.7499)\n",
      "  5. Video 8340 (score: 1.5200)\n"
     ]
    }
   ],
   "source": [
    "# Generate recommendations for a few example users\n",
    "print(\"\\n--- Example Recommendations ---\")\n",
    "example_users = test_features['user_id'].unique()[:5]  # Use the first 5 users as examples\n",
    "\n",
    "for user_id in example_users:\n",
    "    print(f\"\\nRecommendations for user {user_id}:\")\n",
    "    \n",
    "    # Get recommendations with default weights\n",
    "    recs = recommender.recommend(user_id, n=5)\n",
    "    \n",
    "    # Display recommendations\n",
    "    if recs:\n",
    "        for rank, (item_id, score) in enumerate(recs):\n",
    "            print(f\"  {rank+1}. Video {item_id} (score: {score:.4f})\")\n",
    "    else:\n",
    "        print(\"  No recommendations generated.\")"
   ]
  },
  {
   "cell_type": "markdown",
   "metadata": {},
   "source": [
    "## 4. Generate Recommendations for All Users\n",
    "\n",
    "Now we'll generate recommendations for all users in the test set using our weighted ensemble approach."
   ]
  },
  {
   "cell_type": "code",
   "execution_count": 5,
   "metadata": {},
   "outputs": [
    {
     "name": "stdout",
     "output_type": "stream",
     "text": [
      "\n",
      "--- Generating Recommendations for All Test Users ---\n"
     ]
    },
    {
     "name": "stderr",
     "output_type": "stream",
     "text": [
      "Generating recommendations: 100%|██████████| 1411/1411 [01:05<00:00, 21.46it/s]\n"
     ]
    }
   ],
   "source": [
    "# Generate recommendations for all users in the test set\n",
    "print(\"\\n--- Generating Recommendations for All Test Users ---\")\n",
    "test_users = test_features['user_id'].unique()\n",
    "all_recommendations = recommender.generate_recommendations_for_all_users(\n",
    "    users=test_users, \n",
    "    n=10,\n",
    "    weights={\n",
    "        'collaborative': 0.4,\n",
    "        'content': 0.3,\n",
    "        'sequence': 0.2,\n",
    "        'hybrid': 0.1\n",
    "    }\n",
    ")"
   ]
  },
  {
   "cell_type": "markdown",
   "metadata": {},
   "source": [
    "## 5. Save Recommendations and Summarize Results\n",
    "\n",
    "Finally, we save all recommendations to a file and provide a summary of what we've generated."
   ]
  },
  {
   "cell_type": "code",
   "execution_count": 6,
   "metadata": {},
   "outputs": [
    {
     "name": "stdout",
     "output_type": "stream",
     "text": [
      "Saved recommendations to ../results\\recommendations.csv\n",
      "\n",
      "=== Recommendation Algorithm Summary ===\n",
      "1. Number of users with recommendations: 1411\n",
      "2. Average number of recommendations per user: 10.00\n",
      "3. All recommendations have been saved to ../results\\recommendations.csv\n",
      "\n",
      "Next step: Evaluate the recommendations using appropriate metrics.\n"
     ]
    }
   ],
   "source": [
    "# Save recommendations to file\n",
    "recommender.save_recommendations(\n",
    "    all_recommendations, \n",
    "    os.path.join(output_dir, \"recommendations.csv\")\n",
    ")\n",
    "\n",
    "# Summary statistics\n",
    "print(\"\\n=== Recommendation Algorithm Summary ===\")\n",
    "print(f\"1. Number of users with recommendations: {len(all_recommendations)}\")\n",
    "print(f\"2. Average number of recommendations per user: {np.mean([len(recs) for recs in all_recommendations.values()]):.2f}\")\n",
    "print(f\"3. All recommendations have been saved to {os.path.join(output_dir, 'recommendations.csv')}\")\n",
    "print(\"\\nNext step: Evaluate the recommendations using appropriate metrics.\")"
   ]
  },
  {
   "cell_type": "markdown",
   "metadata": {},
   "source": [
    "## Analysis and Next Steps\n",
    "\n",
    "### Results Summary\n",
    "We have successfully generated personalized video recommendations for all 1,411 users in our test set, with each user receiving exactly 10 recommendations. The recommendation algorithm effectively combines the outputs from our four distinct models with the specified weights:\n",
    "- 40% from Collaborative Filtering\n",
    "- 30% from Content-Based Filtering\n",
    "- 20% from Sequence-Aware Model\n",
    "- 10% from Hybrid Model\n",
    "\n",
    "The sample recommendations demonstrate diverse scoring patterns across different users, suggesting that the algorithm adapts to individual user preferences and viewing histories. For example, User 19's top recommendation has a significantly higher score (8.0) compared to User 14's top recommendation (1.8789), indicating strong personalization.\n",
    "\n",
    "### Key Achievements\n",
    "1. Implemented a weighted ensemble approach that leverages all four recommendation models\n",
    "2. Generated personalized top-10 recommendation lists for all test users\n",
    "3. Saved recommendations in a standardized format for further evaluation\n",
    "4. Processed recommendations efficiently (21.76 users per second)\n",
    "\n",
    "### Next Steps\n",
    "The next crucial phase is to evaluate these recommendations in notebook 5 using established metrics such as:\n",
    "- Precision and Recall at K\n",
    "- Mean Average Precision (MAP)\n",
    "- Normalized Discounted Cumulative Gain (NDCG)\n",
    "- Diversity and Coverage metrics\n",
    "\n",
    "This evaluation will help us determine how well our recommendation algorithm performs and identify potential areas for improvement. We may also experiment with different model weight combinations to optimize performance further."
   ]
  }
 ],
 "metadata": {
  "kernelspec": {
   "display_name": "Python 3",
   "language": "python",
   "name": "python3"
  },
  "language_info": {
   "codemirror_mode": {
    "name": "ipython",
    "version": 3
   },
   "file_extension": ".py",
   "mimetype": "text/x-python",
   "name": "python",
   "nbconvert_exporter": "python",
   "pygments_lexer": "ipython3",
   "version": "3.12.4"
  }
 },
 "nbformat": 4,
 "nbformat_minor": 2
}
